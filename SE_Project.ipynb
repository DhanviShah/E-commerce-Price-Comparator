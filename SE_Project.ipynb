{
  "nbformat": 4,
  "nbformat_minor": 0,
  "metadata": {
    "colab": {
      "name": "SE_Project.ipynb",
      "provenance": [],
      "authorship_tag": "ABX9TyPELMVyNP2Mx4BNdap0yoTw",
      "include_colab_link": true
    },
    "kernelspec": {
      "name": "python3",
      "display_name": "Python 3"
    },
    "language_info": {
      "name": "python"
    }
  },
  "cells": [
    {
      "cell_type": "markdown",
      "metadata": {
        "id": "view-in-github",
        "colab_type": "text"
      },
      "source": [
        "<a href=\"https://colab.research.google.com/github/DhanviShah/Group7-E-commerce-Price-Comparison/blob/main/SE_Project.ipynb\" target=\"_parent\"><img src=\"https://colab.research.google.com/assets/colab-badge.svg\" alt=\"Open In Colab\"/></a>"
      ]
    },
    {
      "cell_type": "code",
      "metadata": {
        "id": "1zf3s58DIVRD"
      },
      "source": [
        "from smtplib import SMTP"
      ],
      "execution_count": 3,
      "outputs": []
    },
    {
      "cell_type": "code",
      "metadata": {
        "colab": {
          "base_uri": "https://localhost:8080/"
        },
        "id": "doI2t-pmph67",
        "outputId": "31643e74-35ba-4f73-d4b2-84737b0f4cbe"
      },
      "source": [
        "server = SMTP('smtp.gmail.com',587)\n",
        "server.ehlo()\n",
        "server.starttls()\n",
        "server.ehlo()\n",
        "server.login('daamjano@gmail.com','Qwerty123%')\n",
        "subject = 'Test Mail'\n",
        "body = '''Hurray we succeeded, this is a test mail to make sure that you recieve it in good health :)\n",
        "          This is an automated mail!! check check :*)'''\n",
        "to = ['srishtikalra65@gmail.com','mitalkamani500@gmail.com','dhanvi2301@gmail.com']\n",
        "sender = 'daamjano@gmail.com'\n",
        "\n",
        "msg = f'subject: {subject} \\n\\n {body}'\n",
        "\n",
        "server.sendmail(sender,to,msg)\n",
        "print('mail sent!!! hurray parwwwrriiiii')\n",
        "server.quit()"
      ],
      "execution_count": 9,
      "outputs": [
        {
          "output_type": "stream",
          "text": [
            "mail sent!!! hurray parwwwrriiiii\n"
          ],
          "name": "stdout"
        },
        {
          "output_type": "execute_result",
          "data": {
            "text/plain": [
              "(221, b'2.0.0 closing connection o18sm2622409vke.2 - gsmtp')"
            ]
          },
          "metadata": {
            "tags": []
          },
          "execution_count": 9
        }
      ]
    }
  ]
}